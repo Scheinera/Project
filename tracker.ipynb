{
 "cells": [
  {
   "cell_type": "code",
   "execution_count": 4,
   "metadata": {},
   "outputs": [
    {
     "name": "stdout",
     "output_type": "stream",
     "text": [
      "Defaulting to user installation because normal site-packages is not writeable\n",
      "Requirement already satisfied: phonenumbers in /Users/andersonscheiner/Library/Python/3.9/lib/python/site-packages (8.13.32)\n",
      "Collecting folium\n",
      "  Downloading folium-0.16.0-py2.py3-none-any.whl (100 kB)\n",
      "\u001b[K     |████████████████████████████████| 100 kB 3.8 MB/s ta 0:00:01\n",
      "\u001b[?25hCollecting colorama\n",
      "  Downloading colorama-0.4.6-py2.py3-none-any.whl (25 kB)\n",
      "Collecting opencage\n",
      "  Downloading opencage-2.4.0-py3-none-any.whl (16 kB)\n",
      "Collecting branca>=0.6.0\n",
      "  Downloading branca-0.7.1-py3-none-any.whl (25 kB)\n",
      "Requirement already satisfied: requests in /Users/andersonscheiner/Library/Python/3.9/lib/python/site-packages (from folium) (2.31.0)\n",
      "Collecting jinja2>=2.9\n",
      "  Downloading Jinja2-3.1.3-py3-none-any.whl (133 kB)\n",
      "\u001b[K     |████████████████████████████████| 133 kB 12.5 MB/s eta 0:00:01\n",
      "\u001b[?25hRequirement already satisfied: numpy in /Users/andersonscheiner/Library/Python/3.9/lib/python/site-packages (from folium) (1.26.2)\n",
      "Collecting xyzservices\n",
      "  Downloading xyzservices-2023.10.1-py3-none-any.whl (56 kB)\n",
      "\u001b[K     |████████████████████████████████| 56 kB 6.1 MB/s  eta 0:00:01\n",
      "\u001b[?25hCollecting backoff>=2.2.1\n",
      "  Downloading backoff-2.2.1-py3-none-any.whl (15 kB)\n",
      "Collecting MarkupSafe>=2.0\n",
      "  Downloading MarkupSafe-2.1.5-cp39-cp39-macosx_10_9_x86_64.whl (14 kB)\n",
      "Requirement already satisfied: urllib3<3,>=1.21.1 in /Users/andersonscheiner/Library/Python/3.9/lib/python/site-packages (from requests->folium) (2.1.0)\n",
      "Requirement already satisfied: idna<4,>=2.5 in /Users/andersonscheiner/Library/Python/3.9/lib/python/site-packages (from requests->folium) (3.4)\n",
      "Requirement already satisfied: charset-normalizer<4,>=2 in /Users/andersonscheiner/Library/Python/3.9/lib/python/site-packages (from requests->folium) (3.3.2)\n",
      "Requirement already satisfied: certifi>=2017.4.17 in /Users/andersonscheiner/Library/Python/3.9/lib/python/site-packages (from requests->folium) (2023.11.17)\n",
      "Installing collected packages: MarkupSafe, jinja2, xyzservices, branca, backoff, opencage, folium, colorama\n",
      "Successfully installed MarkupSafe-2.1.5 backoff-2.2.1 branca-0.7.1 colorama-0.4.6 folium-0.16.0 jinja2-3.1.3 opencage-2.4.0 xyzservices-2023.10.1\n",
      "\u001b[33mWARNING: You are using pip version 21.2.4; however, version 24.0 is available.\n",
      "You should consider upgrading via the '/Library/Developer/CommandLineTools/usr/bin/python3 -m pip install --upgrade pip' command.\u001b[0m\n",
      "Note: you may need to restart the kernel to use updated packages.\n"
     ]
    }
   ],
   "source": [
    "pip install phonenumbers folium colorama opencage"
   ]
  },
  {
   "cell_type": "code",
   "execution_count": 1,
   "metadata": {},
   "outputs": [
    {
     "name": "stderr",
     "output_type": "stream",
     "text": [
      "/Users/andersonscheiner/Library/Python/3.9/lib/python/site-packages/urllib3/__init__.py:34: NotOpenSSLWarning: urllib3 v2 only supports OpenSSL 1.1.1+, currently the 'ssl' module is compiled with 'LibreSSL 2.8.3'. See: https://github.com/urllib3/urllib3/issues/3020\n",
      "  warnings.warn(\n"
     ]
    }
   ],
   "source": [
    "import phonenumbers, folium, sys, argparse, os\n",
    "from phonenumbers import geocoder, timezone, carrier \n",
    "from colorama import init, Fore\n",
    "\n",
    "init()"
   ]
  },
  {
   "cell_type": "code",
   "execution_count": 2,
   "metadata": {},
   "outputs": [],
   "source": [
    "def process_number(number):\n",
    "    try:\n",
    "        global location\n",
    "        # Parse the phone number. See this as extracting relevant information from the Phone number.\n",
    "        parsed_number = phonenumbers.parse(number)\n",
    "        '''Display a message indicating the tracking attempt. We'll also format the parsed number to the \n",
    "        international format.'''\n",
    "        print(f\"{Fore.GREEN}[+] Attempting to track location of \"\n",
    "              f\"{phonenumbers.format_number(parsed_number, phonenumbers.PhoneNumberFormat.INTERNATIONAL)}..\")\n",
    "        # Get and display the time zone ID\n",
    "        print(f\"{Fore.GREEN}[+] Time Zone ID: {timezone.time_zones_for_number(parsed_number)}\")\n",
    "        # Get the geographic location of the Phone number and display it.\n",
    "        location = geocoder.description_for_number(parsed_number, \"en\")\n",
    "        if location:\n",
    "            print(f\"{Fore.GREEN}[+] Region: {location}\")\n",
    "        else:\n",
    "            print(f\"{Fore.RED}[-] Region: Unknown\")\n",
    "        '''Get the service provider (carrier) and display it if available. Some businesses and \n",
    "        organizations do not use public service providers. So you may not see the carrier in that case.'''\n",
    "        if carrier.name_for_number(parsed_number, 'en'):\n",
    "            print(f\"{Fore.GREEN}[+] Service Provider:  {carrier.name_for_number(parsed_number, 'en')}\")\n",
    "        else:\n",
    "            pass\n",
    "    # Handle exceptions, such as invalid phone numbers or connectivity issues.\n",
    "    except Exception:\n",
    "        print(f\"{Fore.RED}[-] Please specify a valid phone number (with country code)\"\n",
    "              \" or check your internet connection.\")\n",
    "        sys.exit()"
   ]
  },
  {
   "cell_type": "code",
   "execution_count": 3,
   "metadata": {},
   "outputs": [],
   "source": [
    "def get_approx_coordinates():\n",
    "    # Import the OpenCageGeocode class from the opencage.geocoder module\n",
    "    from opencage.geocoder import OpenCageGeocode\n",
    "    global coder, latitude, longitude\n",
    "    # Try to execute the following block, and handle exceptions if they occur.\n",
    "    try:\n",
    "        # Create an instance of the OpenCageGeocode class with your API key.\n",
    "        coder = OpenCageGeocode(\"42c84373c47e490ba410d4132ae64fc4\")\n",
    "        query = location\n",
    "        # Perform a geocoding query to obtain results.\n",
    "        results = coder.geocode(query)\n",
    "        # Extract latitude and longitude from the geocoding results. These are the coordinates of the number's location.\n",
    "        latitude = results[0]['geometry']['lat']\n",
    "        longitude = results[0]['geometry']['lng']\n",
    "        # Print the obtained latitude and longitude.\n",
    "        print(f\"[+] Latitude: {latitude}, Longitude: {longitude}\")\n",
    "        # Perform a reverse geocoding query to obtain an address based on coordinates.\n",
    "        address = coder.reverse_geocode(latitude, longitude)\n",
    "        # Check if an address was found.\n",
    "        if address:\n",
    "            address = address[0]['formatted']\n",
    "            print(f\"{Fore.LIGHTRED_EX}[+] Approximate Location is {address}\")\n",
    "        else:\n",
    "            # If no address was found, print an error message.\n",
    "            print(f\"{Fore.RED}[-] No address found for the given coordinates.\")\n",
    "    except Exception:\n",
    "        '''Handle exceptions by printing an error message and exiting the script. This would prevent the program from \n",
    "        crashing'''\n",
    "        print(f\"{Fore.RED}[-] Could not get the location of this number. Please specify a valid phone number or \"\n",
    "              \"check your internet connection.\")\n",
    "        sys.exit()"
   ]
  },
  {
   "cell_type": "code",
   "execution_count": 4,
   "metadata": {},
   "outputs": [],
   "source": [
    "# This function basically removes unwanted characters from the Phone number such as white spaces.\n",
    "def clean_phone_number(phone_number):\n",
    "    cleaned = ''.join(char for part in phone_number for char in part if char.isdigit() or char == '+')\n",
    "    return cleaned or \"unknown\""
   ]
  },
  {
   "cell_type": "code",
   "execution_count": 5,
   "metadata": {},
   "outputs": [],
   "source": [
    "# Function to see Aerial view of the person's location.\n",
    "def draw_map():\n",
    "    try:\n",
    "        # Create a Folium map centered around the latitude and longitude of the number's coordinates.\n",
    "        my_map = folium.Map(location=[latitude, longitude], zoom_start=9)\n",
    "        # Add a marker to the map at the specified latitude and longitude with a popup displaying the 'location' variable.\n",
    "        folium.Marker([latitude, longitude], popup=location).add_to(my_map)\n",
    "        ''' Clean the phone number and use it to generate a file name with an '.html' extension\n",
    "        we'll basically save each map with the number of the owner for easy identification.'''\n",
    "        cleaned_phone_number = clean_phone_number(args.phone_number) # We'll see 'args' soon.\n",
    "        file_name = f\"{cleaned_phone_number}.html\"\n",
    "        # Save the map as an HTML file with the generated file name.\n",
    "        my_map.save(file_name)\n",
    "        # Print a message indicating where the saved HTML file can be found.\n",
    "        print(f\"[+] See Aerial Coverage at: {os.path.abspath(file_name)}\")\n",
    "    # Handle the 'NameError' exception, which can occur if the 'latitude' or 'longitude' variables are not defined.\n",
    "    except NameError:\n",
    "        print(f\"{Fore.RED}[-] Could not get Aerial coverage for this number. Please check the number again.\")"
   ]
  },
  {
   "cell_type": "code",
   "execution_count": 57,
   "metadata": {},
   "outputs": [],
   "source": [
    "# Function to handle command-line arguments.\n",
    "def cli_argument():\n",
    "    # Create an ArgumentParser object and specify a description.\n",
    "    parser = argparse.ArgumentParser(description=\"Get approximate location of a Phone number.\")\n",
    "    # Define a command-line argument: -p or --phone. This is to receive the user's number from terminal.\n",
    "    parser.add_argument(\"-p +55 932021884\", dest=\"phone_number\", type=str,\n",
    "                        help=\"Phone number to track. Please include the country code when specifying the number.\",\n",
    "                        required=True, nargs=\"+\")\n",
    "    # Parse the command-line arguments.\n",
    "    argument = parser.parse_args()\n",
    "    # Check if the 'phone_number' argument is not provided.\n",
    "    if not argument.phone_number:\n",
    "        # Print an error message indicating that the phone number is required.\n",
    "        print(f\"{Fore.RED}[] Please specify the phone number to track (including country code).\"\n",
    "              \" Use --help to see usage.\")\n",
    "        # Exit the script.\n",
    "        sys.exit()\n",
    "    # Return the parsed command-line arguments.\n",
    "    return argument"
   ]
  },
  {
   "cell_type": "code",
   "execution_count": 58,
   "metadata": {},
   "outputs": [
    {
     "name": "stderr",
     "output_type": "stream",
     "text": [
      "usage: ipykernel_launcher.py [-h] -p +55 932021884 PHONE_NUMBER\n",
      "                             [PHONE_NUMBER ...]\n",
      "ipykernel_launcher.py: error: the following arguments are required: -p +55 932021884\n"
     ]
    },
    {
     "ename": "SystemExit",
     "evalue": "2",
     "output_type": "error",
     "traceback": [
      "An exception has occurred, use %tb to see the full traceback.\n",
      "\u001b[0;31mSystemExit\u001b[0m\u001b[0;31m:\u001b[0m 2\n"
     ]
    }
   ],
   "source": [
    "# Parse command-line arguments using the 'cli_argument' function.\n",
    "args = cli_argument()\n",
    "# Call the process_number function and pass the phone number as a single string.\n",
    "process_number(\"\".join(args.phone_number))\n",
    "get_approx_coordinates()\n",
    "draw_map()"
   ]
  },
  {
   "cell_type": "code",
   "execution_count": 40,
   "metadata": {},
   "outputs": [
    {
     "ename": "SyntaxError",
     "evalue": "invalid syntax (2245397722.py, line 1)",
     "output_type": "error",
     "traceback": [
      "\u001b[0;36m  Cell \u001b[0;32mIn[40], line 1\u001b[0;36m\u001b[0m\n\u001b[0;31m    python [file_name.py] -p phone_number\u001b[0m\n\u001b[0m                             ^\u001b[0m\n\u001b[0;31mSyntaxError\u001b[0m\u001b[0;31m:\u001b[0m invalid syntax\n"
     ]
    }
   ],
   "source": [
    "python [file_name.py] -p phone_number"
   ]
  }
 ],
 "metadata": {
  "kernelspec": {
   "display_name": "Python 3",
   "language": "python",
   "name": "python3"
  },
  "language_info": {
   "codemirror_mode": {
    "name": "ipython",
    "version": 3
   },
   "file_extension": ".py",
   "mimetype": "text/x-python",
   "name": "python",
   "nbconvert_exporter": "python",
   "pygments_lexer": "ipython3",
   "version": "3.9.6"
  }
 },
 "nbformat": 4,
 "nbformat_minor": 2
}
