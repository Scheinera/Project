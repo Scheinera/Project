{
 "cells": [
  {
   "cell_type": "code",
   "execution_count": 1,
   "metadata": {},
   "outputs": [
    {
     "name": "stdout",
     "output_type": "stream",
     "text": [
      "Collecting MetaTrader\n",
      "  Downloading metatrader-0.0.1.zip (11 kB)\n",
      "  Preparing metadata (setup.py) ... \u001b[?25ldone\n",
      "\u001b[?25hRequirement already satisfied: beautifulsoup4 in ./.venv/lib/python3.11/site-packages (from MetaTrader) (4.12.2)\n",
      "Requirement already satisfied: soupsieve>1.2 in ./.venv/lib/python3.11/site-packages (from beautifulsoup4->MetaTrader) (2.5)\n",
      "Building wheels for collected packages: MetaTrader\n",
      "  Building wheel for MetaTrader (setup.py) ... \u001b[?25ldone\n",
      "\u001b[?25h  Created wheel for MetaTrader: filename=metatrader-0.0.1-py3-none-any.whl size=9604 sha256=c110422d9ddb1141276b28491d0af35cf786d984a129e70d3a9ef8281f26aace\n",
      "  Stored in directory: /Users/scheiner/Library/Caches/pip/wheels/10/53/20/6ba92768e169487e51a243011de30581845180227ffd9d649c\n",
      "Successfully built MetaTrader\n",
      "Installing collected packages: MetaTrader\n",
      "Successfully installed MetaTrader-0.0.1\n",
      "Note: you may need to restart the kernel to use updated packages.\n"
     ]
    }
   ],
   "source": [
    "pip install MetaTrader"
   ]
  }
 ],
 "metadata": {
  "kernelspec": {
   "display_name": ".venv",
   "language": "python",
   "name": "python3"
  },
  "language_info": {
   "codemirror_mode": {
    "name": "ipython",
    "version": 3
   },
   "file_extension": ".py",
   "mimetype": "text/x-python",
   "name": "python",
   "nbconvert_exporter": "python",
   "pygments_lexer": "ipython3",
   "version": "3.11.5"
  },
  "orig_nbformat": 4
 },
 "nbformat": 4,
 "nbformat_minor": 2
}
